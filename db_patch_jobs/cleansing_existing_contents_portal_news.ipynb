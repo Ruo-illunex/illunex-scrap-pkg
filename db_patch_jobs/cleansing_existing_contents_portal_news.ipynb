{
 "cells": [
  {
   "cell_type": "markdown",
   "metadata": {},
   "source": [
    "# Connect DB"
   ]
  },
  {
   "cell_type": "code",
   "execution_count": 1,
   "metadata": {},
   "outputs": [],
   "source": [
    "from sqlalchemy import create_engine, text\n",
    "from sqlalchemy.engine.reflection import Inspector\n",
    "\n",
    "\n",
    "\n",
    "NEWS_DB_URL = f'mysql+pymysql://{DB_USERNAME}:{DB_PASSWORD}@{DB_HOST}:{DB_PORT}/{NEWS_DB_DATABASE}?charset=utf8mb4'\n",
    "\n",
    "engine = create_engine(NEWS_DB_URL, echo=True)  # echo=True will turn on the logging of the actual SQL queries"
   ]
  },
  {
   "cell_type": "code",
   "execution_count": 2,
   "metadata": {},
   "outputs": [
    {
     "name": "stdout",
     "output_type": "stream",
     "text": [
      "2024-03-20 15:18:31,078 INFO sqlalchemy.engine.Engine SELECT DATABASE()\n",
      "2024-03-20 15:18:31,078 INFO sqlalchemy.engine.Engine [raw sql] {}\n",
      "2024-03-20 15:18:31,082 INFO sqlalchemy.engine.Engine SELECT @@sql_mode\n",
      "2024-03-20 15:18:31,082 INFO sqlalchemy.engine.Engine [raw sql] {}\n",
      "2024-03-20 15:18:31,084 INFO sqlalchemy.engine.Engine SELECT @@lower_case_table_names\n",
      "2024-03-20 15:18:31,084 INFO sqlalchemy.engine.Engine [raw sql] {}\n",
      "2024-03-20 15:18:31,089 INFO sqlalchemy.engine.Engine BEGIN (implicit)\n",
      "2024-03-20 15:18:31,089 INFO sqlalchemy.engine.Engine SHOW FULL TABLES FROM `portal_news_scraper`\n",
      "2024-03-20 15:18:31,090 INFO sqlalchemy.engine.Engine [raw sql] {}\n",
      "2024-03-20 15:18:31,093 INFO sqlalchemy.engine.Engine ROLLBACK\n"
     ]
    },
    {
     "name": "stderr",
     "output_type": "stream",
     "text": [
      "/tmp/ipykernel_3560070/142063905.py:2: SADeprecationWarning: The from_engine() method on Inspector is deprecated and will be removed in a future release.  Please use the sqlalchemy.inspect() function on an Engine or Connection in order to acquire an Inspector. (deprecated since: 1.4)\n",
      "  inspector = Inspector.from_engine(engine)\n"
     ]
    },
    {
     "data": {
      "text/plain": [
       "['new_company_info',\n",
       " 'news_category_code',\n",
       " 'portal_news',\n",
       " 'portal_news_2021',\n",
       " 'portal_news_2022',\n",
       " 'portal_news_2023']"
      ]
     },
     "execution_count": 2,
     "metadata": {},
     "output_type": "execute_result"
    }
   ],
   "source": [
    "# 테이블 목록 조회\n",
    "inspector = Inspector.from_engine(engine)\n",
    "table_names = inspector.get_table_names()\n",
    "table_names"
   ]
  },
  {
   "cell_type": "code",
   "execution_count": 4,
   "metadata": {},
   "outputs": [],
   "source": [
    "news_table_names = [\n",
    "    'portal_news',\n",
    "    'portal_news_2021',\n",
    "    'portal_news_2022',\n",
    "    'portal_news_2023'\n",
    "    ]"
   ]
  },
  {
   "cell_type": "code",
   "execution_count": 8,
   "metadata": {},
   "outputs": [
    {
     "name": "stdout",
     "output_type": "stream",
     "text": [
      "테이블: portal_news\n",
      "2024-03-20 15:23:32,062 INFO sqlalchemy.engine.Engine BEGIN (implicit)\n",
      "2024-03-20 15:23:32,063 INFO sqlalchemy.engine.Engine SELECT content FROM portal_news LIMIT 1\n",
      "2024-03-20 15:23:32,064 INFO sqlalchemy.engine.Engine [cached since 191s ago] {}\n",
      "현대건설. 한국배구연맹\n",
      "           \n",
      "\n",
      "프로배구 여자부 현대건설이 압도적인 높이를 앞세워 1위를 수성했다.\n",
      "현대건설은 31일 인천 삼산월드체육관에서 열린 2023-2024시\n",
      "2024-03-20 15:23:32,067 INFO sqlalchemy.engine.Engine ROLLBACK\n",
      "\n",
      "테이블: portal_news_2021\n",
      "2024-03-20 15:23:32,069 INFO sqlalchemy.engine.Engine BEGIN (implicit)\n",
      "2024-03-20 15:23:32,069 INFO sqlalchemy.engine.Engine SELECT content FROM portal_news_2021 LIMIT 1\n",
      "2024-03-20 15:23:32,069 INFO sqlalchemy.engine.Engine [cached since 191s ago] {}\n",
      "content 컬럼이 비어 있습니다.\n",
      "2024-03-20 15:23:32,071 INFO sqlalchemy.engine.Engine ROLLBACK\n",
      "\n",
      "테이블: portal_news_2022\n",
      "2024-03-20 15:23:32,073 INFO sqlalchemy.engine.Engine BEGIN (implicit)\n",
      "2024-03-20 15:23:32,073 INFO sqlalchemy.engine.Engine SELECT content FROM portal_news_2022 LIMIT 1\n",
      "2024-03-20 15:23:32,073 INFO sqlalchemy.engine.Engine [generated in 0.00056s] {}\n",
      "권덕철 보건복지부 장관이 “새해 코로나19 극복을 최우선으로 추진하겠다”고 밝혔다.권 장관은 1일 신년사를 통해 “코로나19 백신·치료제의 선제적 확보할 것”이라며 “재택치료 지원\n",
      "2024-03-20 15:23:32,096 INFO sqlalchemy.engine.Engine ROLLBACK\n",
      "\n",
      "테이블: portal_news_2023\n",
      "2024-03-20 15:23:32,097 INFO sqlalchemy.engine.Engine BEGIN (implicit)\n",
      "2024-03-20 15:23:32,098 INFO sqlalchemy.engine.Engine SELECT content FROM portal_news_2023 LIMIT 1\n",
      "2024-03-20 15:23:32,098 INFO sqlalchemy.engine.Engine [generated in 0.00057s] {}\n",
      "content 컬럼이 비어 있습니다.\n",
      "2024-03-20 15:23:32,105 INFO sqlalchemy.engine.Engine ROLLBACK\n",
      "\n"
     ]
    }
   ],
   "source": [
    "# 각 테이블에서 content 컬럼의 데이터 조회\n",
    "for table_name in news_table_names:\n",
    "    print(f'테이블: {table_name}')\n",
    "    with engine.connect() as con:\n",
    "        rs = con.execute(text(f'SELECT content FROM {table_name} LIMIT 1'))\n",
    "        for row in rs:\n",
    "            if row[0] is None:\n",
    "                print('content 컬럼이 비어 있습니다.')\n",
    "            else:\n",
    "                print(row[0][:100])  # content 컬럼의 내용 중 앞 100자만 출력\n",
    "    print()  # 테이블 간 구분을 위해 빈 줄 출력"
   ]
  },
  {
   "cell_type": "markdown",
   "metadata": {},
   "source": [
    "# Cleansing Data"
   ]
  },
  {
   "cell_type": "code",
   "execution_count": 5,
   "metadata": {},
   "outputs": [],
   "source": [
    "import re\n",
    "\n",
    "\n",
    "def process_content(text):\n",
    "    try:\n",
    "        # e-mail 주소를 제거합니다.\n",
    "        text = re.sub(r'\\S+@\\S+', '', text)\n",
    "        # HTML 공백 문자인 &nbsp;를 실제 공백으로 대체합니다.\n",
    "        text = re.sub(r'\\u00A0', ' ', text)\n",
    "        text = re.sub(r'&nbsp;', ' ', text)\n",
    "        # 두 개 이상 연속된 공백을 하나의 공백으로 치환합니다.\n",
    "        text = re.sub(r' {2,}', ' ', text)\n",
    "        # 각 줄의 시작 부분에 있는 공백을 제거합니다.\n",
    "        text = re.sub(r'(?m)^\\s+', '', text)\n",
    "        # 빈 줄을 제거합니다.\n",
    "        text = re.sub(r'(?m)^\\n', '', text)\n",
    "        \n",
    "        # 문자열의 앞뒤에 있는 모든 공백을 제거합니다.\n",
    "        return text.strip()\n",
    "    except Exception as e:\n",
    "        print('content 전처리 중 에러 발생:', e)\n",
    "        return text"
   ]
  },
  {
   "cell_type": "code",
   "execution_count": 12,
   "metadata": {},
   "outputs": [
    {
     "name": "stderr",
     "output_type": "stream",
     "text": [
      "/tmp/ipykernel_3500378/3843516001.py:5: MovedIn20Warning: The ``declarative_base()`` function is now available as sqlalchemy.orm.declarative_base(). (deprecated since: 2.0) (Background on SQLAlchemy 2.0 at: https://sqlalche.me/e/b8d9)\n",
      "  Base = declarative_base()\n"
     ]
    }
   ],
   "source": [
    "from sqlalchemy.ext.declarative import declarative_base\n",
    "from sqlalchemy import Column, String, Text, DateTime\n",
    "from sqlalchemy.dialects.mysql import BIGINT\n",
    "\n",
    "Base = declarative_base()\n",
    "\n",
    "\n",
    "class PortalNews(Base):\n",
    "    \"\"\"다음 뉴스 모델 클래스\"\"\"\n",
    "\n",
    "    __tablename__ = 'portal_news'\n",
    "\n",
    "    id = Column(BIGINT, primary_key=True, autoincrement=True)\n",
    "    url = Column(String(255))\n",
    "    title = Column(String(255))\n",
    "    content = Column(Text)\n",
    "    create_date = Column(DateTime)\n",
    "    kind = Column(String(10))\n",
    "    url_md5 = Column(String(35), unique=True)\n",
    "    image_url = Column(Text)\n",
    "    portal = Column(String(255))\n",
    "    media = Column(String(255))\n",
    "    norm_title = Column(String(255))\n",
    "\n",
    "    # 테이블 인코딩 설정\n",
    "    __table_args__ = {\n",
    "        'mysql_charset': 'utf8mb4',\n",
    "        'mysql_collate': 'utf8mb4_unicode_ci'\n",
    "        }\n",
    "\n",
    "\n",
    "class EsgNews(Base):\n",
    "    \"\"\"ESG 뉴스 모델 클래스\"\"\"\n",
    "\n",
    "    __tablename__ = 'esg_news'\n",
    "\n",
    "    id = Column(BIGINT, primary_key=True, autoincrement=True)\n",
    "    url = Column(String(255))\n",
    "    title = Column(String(255))\n",
    "    content = Column(Text)\n",
    "    create_date = Column(DateTime)\n",
    "    kind = Column(String(10))\n",
    "    url_md5 = Column(String(35), unique=True)\n",
    "    image_url = Column(Text)\n",
    "    portal = Column(String(255))\n",
    "    media = Column(String(255))\n",
    "    esg_analysis = Column(Text)\n",
    "    norm_title = Column(String(255))\n",
    "\n",
    "    # 테이블 인코딩 설정\n",
    "    __table_args__ = {\n",
    "        'mysql_charset': 'utf8mb4',\n",
    "        'mysql_collate': 'utf8mb4_unicode_ci'\n",
    "        }\n",
    "\n",
    "\n",
    "class EtcNews(Base):\n",
    "    \"\"\"기타 뉴스 모델 클래스\"\"\"\n",
    "\n",
    "    __tablename__ = 'etc_news'\n",
    "\n",
    "    id = Column(BIGINT, primary_key=True, autoincrement=True)\n",
    "    url = Column(String(255))\n",
    "    title = Column(String(255))\n",
    "    content = Column(Text)\n",
    "    create_date = Column(DateTime)\n",
    "    kind = Column(String(10))\n",
    "    url_md5 = Column(String(35), unique=True)\n",
    "    image_url = Column(Text)\n",
    "    portal = Column(String(255))\n",
    "    media = Column(String(255))\n",
    "    norm_title = Column(String(255))\n",
    "\n",
    "    # 테이블 인코딩 설정\n",
    "    __table_args__ = {\n",
    "        'mysql_charset': 'utf8mb4',\n",
    "        'mysql_collate': 'utf8mb4_unicode_ci'\n",
    "        }\n",
    "\n",
    "\n",
    "class NaverNews(Base):\n",
    "    \"\"\"네이버 뉴스 모델 클래스\"\"\"\n",
    "\n",
    "    __tablename__ = 'naver_news'\n",
    "\n",
    "    id = Column(BIGINT, primary_key=True, autoincrement=True)\n",
    "    url = Column(String(255))\n",
    "    title = Column(String(255))\n",
    "    content = Column(Text)\n",
    "    create_date = Column(DateTime)\n",
    "    kind = Column(String(10))\n",
    "    url_md5 = Column(String(35), unique=True)\n",
    "    image_url = Column(Text)\n",
    "    portal = Column(String(255))\n",
    "    media = Column(String(255))\n",
    "    norm_title = Column(String(255))\n",
    "\n",
    "    # 테이블 인코딩 설정\n",
    "    __table_args__ = {\n",
    "        'mysql_charset': 'utf8mb4',\n",
    "        'mysql_collate': 'utf8mb4_unicode_ci'\n",
    "        }"
   ]
  },
  {
   "cell_type": "code",
   "execution_count": 13,
   "metadata": {},
   "outputs": [],
   "source": [
    "model_map = {\n",
    "    'daum_news': DaumNews,\n",
    "    'esg_news': EsgNews,\n",
    "    'etc_news': EtcNews,\n",
    "    'naver_news': NaverNews,\n",
    "    }"
   ]
  },
  {
   "cell_type": "code",
   "execution_count": 14,
   "metadata": {},
   "outputs": [
    {
     "name": "stdout",
     "output_type": "stream",
     "text": [
      "2024-03-20 15:10:57,009 INFO sqlalchemy.engine.Engine BEGIN (implicit)\n",
      "2024-03-20 15:10:57,009 INFO sqlalchemy.engine.Engine DESCRIBE `news_scraper`.`SELECT id, content FROM daum_news`\n",
      "2024-03-20 15:10:57,009 INFO sqlalchemy.engine.Engine [raw sql] {}\n",
      "2024-03-20 15:10:57,013 INFO sqlalchemy.engine.Engine SELECT id, content FROM daum_news\n",
      "2024-03-20 15:10:57,014 INFO sqlalchemy.engine.Engine [raw sql] {}\n"
     ]
    },
    {
     "name": "stderr",
     "output_type": "stream",
     "text": [
      "/home/ruo/.cache/pypoetry/virtualenvs/test-1GvpDNxc-py3.10/lib/python3.10/site-packages/tqdm/auto.py:21: TqdmWarning: IProgress not found. Please update jupyter and ipywidgets. See https://ipywidgets.readthedocs.io/en/stable/user_install.html\n",
      "  from .autonotebook import tqdm as notebook_tqdm\n"
     ]
    },
    {
     "name": "stdout",
     "output_type": "stream",
     "text": [
      "2024-03-20 15:10:57,339 INFO sqlalchemy.engine.Engine ROLLBACK\n"
     ]
    },
    {
     "name": "stderr",
     "output_type": "stream",
     "text": [
      "Processing daum_news: 100%|██████████| 7537/7537 [00:00<00:00, 19995.93it/s]"
     ]
    },
    {
     "name": "stdout",
     "output_type": "stream",
     "text": [
      "2024-03-20 15:10:57,730 INFO sqlalchemy.engine.Engine BEGIN (implicit)\n"
     ]
    },
    {
     "name": "stderr",
     "output_type": "stream",
     "text": [
      "\n"
     ]
    },
    {
     "name": "stdout",
     "output_type": "stream",
     "text": [
      "2024-03-20 15:10:57,762 INFO sqlalchemy.engine.Engine UPDATE daum_news SET content=%(content)s WHERE daum_news.id = %(daum_news_id)s\n",
      "2024-03-20 15:10:57,762 INFO sqlalchemy.engine.Engine [generated in 0.01282s] [{'content': '전수진 투데이피플 팀장\\n코리아 중앙데일리 기자로 고 노무현 대통령 시절 청와대를 출입했을 때다 대통령은 진정성이란 단어를 애용했다 영어 번역이 고역이었다 직역도 의역도 어색했다 미국인 에디터들도 갸웃했다 어색한 번역 대신 한국에만 있는 개념인 전세jeonse라는 말 ... (913 characters truncated) ... 고친 것이란다 바빠서 그랬다는 해명에는 진정성의 도 찾기 어렵다 \\n어딜 봐도 진정성은 역시 신기루인가 싶은 총선 D20 풍경이다 21세기 하고도 24년 대한민국 서울에서 속이 타들어 가는 환자와 가족들 머리 위로 진정성 유령이 떠돌고 있다 \\n전수진 투데이피플 팀장', 'daum_news_id': 1396284}, {'content': '오늘의 운세 3월 20일 수요일 음력 2월 11일 띠별 생년월일 운세\\n쥐띠 \\n36년생 자손근심 허명발동 건강주의 실속없고 분주 \\n48년생 재물해결 가족모임 인간관계 원만 승승장구 \\n60년생 직장고민 자손근심 생기나 문서 문제는 원만 \\n72년생 투자증권 손해  ... (1850 characters truncated) ... 트 재물성사 사업왕성 길 \\n71년생 구직성사 혼담 및 경사 생겨 모임갖고 길 \\n83년생 능력발휘 친구화합 가족모임 만사 무난하고 \\n95년생 부모도움 좋은소식 시험원만 주점출입 \\n청년철학관 작명연구소 서일관 원장 \\n경기일보 webmasterkyeonggicom', 'daum_news_id': 1396285}, {'content': '칼 투일스Karl Tuyls 영국 리버풀대 컴퓨터과학과 교수 겸 구글 딥마인드 연구원 연구팀이 개발한 택틱AITacticAI로 코너킥 전술을 분석한 장면구글 딥마인드\\n잉글랜드 프로축구 프리미어리그EPL 리버풀 구단이 코너킥 전술에 인공지능AI 기술을 적용했다 구글이 ... (1600 characters truncated) ... 자연어 기반의 대화형 프로세스로 만들어 축구를 위한 차세대 AI 도우미 역할을 마련할 것이라고 강조했다\\n참고자료\\nNature Communications DOI httpsdoiorg101038s4146702445965x\\nCopyright 조선비즈 Chosuncom', 'daum_news_id': 1396286}, {'content': '알파고 알파폴드 등을 제작한 구글 딥마인드가 이번에는 축구 경기 전략 인공지능 택틱AITacticAI를 개발해 주목받고 있다 위키피디아 제공\\n지난 2월 경질된 대한민국 대표팀 감독 위르겐 클린스만은 아시안컵 내내 전략 없음으로 일관하며 졸전을 펼쳐 국민의 공분을 불 ... (1046 characters truncated) ... 만든 전략의 선호도가 90 이상인 것으로 조사됐다\\n연구를 이끈 다니엘 헤네스 구글 딥마인드 연구원은 택틱AI는 일단 축구 코너킥을 대상으로 전략을 제시하고 있지만 다른 세트피스 상황은 물론 다양한 팀 스포츠에도 적용할 수 있을 것이라고 설명했다\\n유용하 과학전문기자', 'daum_news_id': 1396287}, {'content': '정부가 오늘20일 의대 증원 배분 결과를 발표합니다 \\n정부 관계자에 따르면 한덕수 국무총리는 오늘 대국민 담화를 통해 국민에게 의료개혁 방향과 의대 증원 필요성에 대해 호소할 예정입니다\\n담화 발표 후에는 이주호 부총리 겸 교육부 장관이 2025학년도에 증원할 2천 ... (149 characters truncated) ... 미만 소규모 의대에 중점 배분될 예정입니다\\n사진 출처 연합뉴스\\n제보하기\\n전화 027811234 4444\\n이메일 kbs1234kbscokr\\n카카오톡 KBS제보 검색 채널 추가\\n카카오 마이뷰 유튜브에서 KBS뉴스를 구독해주세요\\n김영은 기자 pazkbscokr', 'daum_news_id': 1396288}, {'content': '한동훈 국민의힘 비상대책위원장이 오늘20일 경기도 안양에서 현장 선거대책위원회를 개최합니다 \\n한 위원장은 오늘 오전 10시 안양남부새마을금고 본점 강당에서 선대위 회의를 갖습니다 \\n이후 한 위원장은 초원어린이공원에서 시민들에게 거리 인사를 한 뒤 안양 관양시장을  ... (55 characters truncated) ... 보령시서천군을 순차적으로 방문할 예정입니다\\n사진 출처 연합뉴스\\n제보하기\\n전화 027811234 4444\\n이메일 kbs1234kbscokr\\n카카오톡 KBS제보 검색 채널 추가\\n카카오 마이뷰 유튜브에서 KBS뉴스를 구독해주세요\\n이승재 기자 sjlkbscokr', 'daum_news_id': 1396289}, {'content': '지난해 7월 서울 신림역에서 흉기 난동으로 4명의 사상자를 낸 조선에 대한 항소심 첫 재판이 오늘20일 열립니다 \\n서울고등법원 제8형사부부장판사 김재호는 오늘 오전 11시 살인 등의 혐의로 재판에 넘겨진 조선에 대한 2심 첫 공판기일을 진행합니다 \\n조 씨는 지난해 ... (164 characters truncated) ...  씨에게 무기징역을 선고했습니다\\n사진 출처 연합뉴스\\n제보하기\\n전화 027811234 4444\\n이메일 kbs1234kbscokr\\n카카오톡 KBS제보 검색 채널 추가\\n카카오 마이뷰 유튜브에서 KBS뉴스를 구독해주세요\\n이호준 기자 hojoonleekbscokr', 'daum_news_id': 1396290}, {'content': '마약 투약 혐의를 받는 전우원 씨에 대한 항소심 첫 공판이 오늘20일 열립니다 \\n서울고등법원 제13형사부부장판사 마용주 한창훈 김우진는 오늘 오후 2시 40분 마약류 관리에 관한 법률 위반향정 등의 혐의로 재판에 넘겨진 전 씨에 대한 2심 첫 공판기일을 진행합니다  ... (206 characters truncated) ... 에 집행유예 4년을 선고했습니다\\n사진 출처 연합뉴스\\n제보하기\\n전화 027811234 4444\\n이메일 kbs1234kbscokr\\n카카오톡 KBS제보 검색 채널 추가\\n카카오 마이뷰 유튜브에서 KBS뉴스를 구독해주세요\\n이호준 기자 hojoonleekbscokr', 'daum_news_id': 1396291}  ... displaying 10 of 7537 total bound parameter sets ...  {'content': '위메이드\\n스포츠한국 조민욱 기자 위메이드는 아랍에미리트UAE 개발사 인프티 아트 파이 소프트웨어와 위믹스 플레이 온보딩 계약을 진행했다고 20일 밝혔다\\n인프티 아트는 캐릭터 장난감 NFT를 판매하는 메타버스 플랫폼 알토이즈를 선보일 예정이다 알토이즈에서는 캐릭터  ... (178 characters truncated) ...  다양한 콘텐츠도 즐길 수 있다\\n위메이드는 아랍에미리트 현지에 지사를 설립하고 다양한 개발사와 연이어 온보딩 계약을 진행하며 중동 지역에서 블록체인 사업을 확장하고 있다\\n위믹스 플레이에 대한 자세한 정보는 공식 홈페이지에서 확인할 수 있다\\n스포츠한국 조민욱 기자', 'daum_news_id': 1403819}, {'content': '솔트룩스 생성 AI 어플라이언스 루시아 온 출시 솔트룩스 제공\\n서울연합뉴스 홍국기 기자 국내 인공지능AI 기업 솔트룩스는 생성형 AI 어플라이언스 루시아 온을 출시했다고 20일 밝혔다 \\n루시아온은 온프레미스사내 서버 설치형 환경에서 정보 유출 없이 내부 문서를 학 ... (408 characters truncated) ... n특히 코드가 없는 방식의 웹 기반 관리 도구를 채택해 코딩을 몰라도 기본 관리와 모니터링이 가능하다고 회사는 설명했다\\n현재 루시아온에 탑재된 루시아 모델매개변수 130억 개은 영어와 한국어를 지원하며 약 50명이 활용할 수 있는 규모다 \\n제보는 카톡 okjebo', 'daum_news_id': 1403820}]\n",
      "2024-03-20 15:11:09,540 INFO sqlalchemy.engine.Engine COMMIT\n",
      "테이블 daum_news 업데이트 완료\n",
      "2024-03-20 15:11:09,831 INFO sqlalchemy.engine.Engine BEGIN (implicit)\n",
      "2024-03-20 15:11:09,831 INFO sqlalchemy.engine.Engine DESCRIBE `news_scraper`.`SELECT id, content FROM esg_news`\n",
      "2024-03-20 15:11:09,832 INFO sqlalchemy.engine.Engine [raw sql] {}\n",
      "2024-03-20 15:11:09,835 INFO sqlalchemy.engine.Engine SELECT id, content FROM esg_news\n",
      "2024-03-20 15:11:09,836 INFO sqlalchemy.engine.Engine [raw sql] {}\n",
      "2024-03-20 15:11:09,844 INFO sqlalchemy.engine.Engine ROLLBACK\n"
     ]
    },
    {
     "name": "stderr",
     "output_type": "stream",
     "text": [
      "Processing esg_news: 100%|██████████| 96/96 [00:00<00:00, 11888.55it/s]"
     ]
    },
    {
     "name": "stdout",
     "output_type": "stream",
     "text": [
      "2024-03-20 15:11:09,857 INFO sqlalchemy.engine.Engine BEGIN (implicit)\n",
      "2024-03-20 15:11:09,859 INFO sqlalchemy.engine.Engine UPDATE esg_news SET content=%(content)s WHERE esg_news.id = %(esg_news_id)s\n",
      "2024-03-20 15:11:09,860 INFO sqlalchemy.engine.Engine [generated in 0.00122s] [{'content': 'JTBC 박상욱 기후전문기자가 19일 대한상공회의소에서 개최된 탄소중립사회 우리나라 산업의 과제와 전략 세미나에서 발제하고 있다 사진ESG경제\\nESG경제신문김현경 기자 글로벌 산업계 탄소중립 전환 흐름에 따른 기업 가치사슬 내 탄소 감축이 국내 수출 기업을 위주로  ... (2334 characters truncated) ... 철강 전환을 위한 포스코의 가장 큰 어려움은 아직 저탄소철강에 대한 수요가 확실하지 않아 투자를 머뭇거리고 있다는 점이라고 전하며 그런 부분이 조금이라도 가속화될 수 있도록 저희쪽수요기업에서 발전단지 조성 계획 등의 수요를 가지고 있다는 시그널링을 하고 있다고 밝혔다', 'esg_news_id': 154418}, {'content': '지난 18일 브뤼셀의 외교 협의회에서 기자회견을 진행하는 조셉 폰텔레스Josep BORRELL FONTELLES EU 외교 안보정책 고위대표 사진유럽의회 공식홈페이지\\nESG경제신문김연지 기자 유럽연합EU 회원국 외교부 장관들은 지난 18일 공동성명을 통해 석유석탄가 ... (789 characters truncated) ... 은 거부의 입장을 보여온 만큼 이에 대한 논쟁이 예상된다 \\n결국 다가오는 COP29에서도 어느 국가가 기후대응기금의 재정을 부담해야 하는지 기후 재정 목표를 어느 정도로 설정해야 하는지 화석 연료 기업들도 기후대응기금에 기여해야 하는지에 대해 치열한 논쟁이 예상된다', 'esg_news_id': 154419}, {'content': 'ESG경제이신형기자 환경부는 탄소배출권거래제에 참여하는 기업의 부담을 덜어주기 위해 기업이 제출한 탄소배출권 명세서의 검인증 절차를 간소화하기로했다\\n회원전용기사\\n로그인 또는 회원가입을 해주세요 회원만 열람가능\\n로그인\\n회원가입', 'esg_news_id': 154420}, {'content': 'ESG경제신문김현경 기자 국내 철강산업은 탈탄소 경쟁력을 확보해야 하는 것이 중요하다는 분석이 나왔다 \\n회원전용기사\\n로그인 또는 회원가입을 해주세요 회원만 열람가능\\n로그인\\n회원가입', 'esg_news_id': 154421}, {'content': 'ESG경제신문박가영 기자 정부는 2050년 탄소중립을 달성하려면 2030년까지 재생에너지 설비 확충에 188조원이 필요하고 이중 금융수요는 160조원에 달할 것으로 전망했다 전체 금융수요 중 54조원은 리스크가 큰 모험자본으로 공급돼야 하는 것으로 추정됐다\\n회원전용기사\\n로그인 또는 회원가입을 해주세요 회원만 열람가능\\n로그인\\n회원가입', 'esg_news_id': 154422}, {'content': '금융위원회는 2020년부터 지역 내 경제 활성화를 위한 금융회사 여수신 활동 등을 평가하는 지역재투자 평가 결과를 발표하고 있다 사진연합뉴스\\nESG경제신문이신형기자 국내 ESG 공시기준을 만들고 있는 한국지속가능성기준위원회KSSB는 410 총선 직후 국내 적용 ES ... (1622 characters truncated) ... 를 통합 공시할 것을 요구한다\\n따라서 한국도 거래소공시로 시작하더라도 결국 사업보고서 형태의 법정공시로 전환할 수밖에 없을 것으로 전문가들은 내다본다 앞의 소식통은 궁극적으로 공시 정보의 국제적 신뢰성 확보를 위해 사업보고서 공시로 가야한다고 생각하고 있다고 말했다', 'esg_news_id': 154423}, {'content': '벨기에 브뤼셀 유럽연합집행위원회EC 본사 앞 유럽연합EU 국기가 휘날리고 있다 로이터연합\\nESG경제신문김현경 기자 유럽연합EU이 추진 중인 공급망실사법CSDDD 최종안이 적용 기준을 대폭 완화하고 시행 시기를 늦추는 등 수정을 거친 끝에 지난 15일 EU 이사회Eu ... (1552 characters truncated) ...  것으로 예상되고 있다\\n본격 시행 단계가 되면 제3국 기업 역시 직간접적 영향권에 들게 되므로 유럽에 진출한 한국 기업도 대비가 필요하다는 지적이 나온다 EU 공급망실사법은 비EU 기업의 경우에도 해당 규제 발효 후 3년 유예 뒤 관련 기준을 충족하는 경우 적용된다', 'esg_news_id': 154424}, {'content': '사진픽사베이\\nESG경제신문김연지 기자 독일 연방환경청UBA은 지난해 독일의 재생에너지 투자가 366억 유로약 53조 원로 전년대비 64 급증했다고 밝혔다 UBA는 또한 독일의 온실가스 배출량이 지난해 77 가량 감소했다며 이로써 30년 기후 목표 달성을 위한 정상  ... (1279 characters truncated) ... 다고 말했다\\n이 프로그램의 지원을 받기 위해 기업들은 정부에 지원 시청을 하고 다른 기업과 경쟁해야 한다 배출량 감소 효과가 탄소 중립에 가까울수록 기존의 탄소 집약적 생산과정을 친환경 에너지를 이용한 생산으로 대체했을 때 추가 비용이 합리적일수록 선정에 유리해진다', 'esg_news_id': 154425}  ... displaying 10 of 96 total bound parameter sets ...  {'content': '20일 수원컨벤션센터에서 제55기 정기 주주총회를 개최한 삼성전자 사진삼성전자그린포스트코리아\\n삼성전자가 올해도 탄소중립과 주주환원 정책 강화 등으로 ESG 경영을 실천하고 온디바이스 AI 제품과 AI 반도체를 중심으로 지속성장을 도모할 것이라고 밝혔다\\n삼성전자는  ... (3687 characters truncated) ... 기반을 강화하는 선순환구조를 구축해 나갈 방침이다\\n삼성전자는 2024년은 삼성이 반도체 사업을 시작한지 50년이 되는 해로 본격 회복을 알리는 재도약과 DS의 미래 반세기를 개막하는 성장의 한 해가 될 것이라며 23년 안에 반도체 세계 1위 자리를 되찾을 계획이라고', 'esg_news_id': 154512}, {'content': '18일 자회사 하이텔레서비스를 방문해 최근 AI 솔루션을 점검하고 상담 컨설턴트와 동석해 상담 서비스를 체험하며 고객의 목소리를 청취한 조주완 LG전자 CEO 사진LG전자그린포스트코리아\\n조주완 LG전자 CEO가 AI 기반 상담시스템을 점검하며 공감지능Affectio ... (1385 characters truncated) ... 조 CEO는 만들되 프로젝트를 통해 고객중심경영을 강화하고 있다 지난해 6월엔 냉장고에어컨 수리 출장서비스에 동행해 고객들의 집을 직접 찾아 생생한 목소리를 들은 바 있다 올해도 주요 고객접점판매 배송설치 상담 서비스 냉난방 시스템 유지보수을 찾아 직접 현장을 체험할', 'esg_news_id': 154513}]\n",
      "2024-03-20 15:11:10,022 INFO sqlalchemy.engine.Engine COMMIT\n",
      "테이블 esg_news 업데이트 완료\n",
      "2024-03-20 15:11:10,031 INFO sqlalchemy.engine.Engine BEGIN (implicit)\n",
      "2024-03-20 15:11:10,032 INFO sqlalchemy.engine.Engine DESCRIBE `news_scraper`.`SELECT id, content FROM etc_news`\n",
      "2024-03-20 15:11:10,032 INFO sqlalchemy.engine.Engine [raw sql] {}\n",
      "2024-03-20 15:11:10,035 INFO sqlalchemy.engine.Engine SELECT id, content FROM etc_news\n",
      "2024-03-20 15:11:10,035 INFO sqlalchemy.engine.Engine [raw sql] {}\n"
     ]
    },
    {
     "name": "stderr",
     "output_type": "stream",
     "text": [
      "\n"
     ]
    },
    {
     "name": "stdout",
     "output_type": "stream",
     "text": [
      "2024-03-20 15:11:10,049 INFO sqlalchemy.engine.Engine ROLLBACK\n"
     ]
    },
    {
     "name": "stderr",
     "output_type": "stream",
     "text": [
      "Processing etc_news: 100%|██████████| 252/252 [00:00<00:00, 14249.03it/s]"
     ]
    },
    {
     "name": "stdout",
     "output_type": "stream",
     "text": [
      "2024-03-20 15:11:10,070 INFO sqlalchemy.engine.Engine BEGIN (implicit)\n",
      "2024-03-20 15:11:10,072 INFO sqlalchemy.engine.Engine UPDATE etc_news SET content=%(content)s WHERE etc_news.id = %(etc_news_id)s\n",
      "2024-03-20 15:11:10,072 INFO sqlalchemy.engine.Engine [generated in 0.00071s] [{'content': '과학기술정보통신부장관 이종호 이창윤 제1차관은 우주항공청 사천 임시청사를 방문 입주 준비 상황을 점검했다\\n이 차관은 이어 사천시장과 경남도청 경제부지사 등 관계자들을 만나 협력 방안을 논의했다우주항공청이 업무 공간으로 사용할 임시청사는 경남 사천시 사남면 사천제2일 ... (258 characters truncated) ... 했다\\n관련기사\\n우주청 임무본부장 연봉 대통령급20240314\\n한국판 NASA 우주항공청 만든다이르면 5월 출범20240109\\n우주항공청 특별법 국회 과방위 문턱 넘었다20240108\\n항우연천문연 역대 원장 정쟁 때문에 우주항공청 설립 지연 안돼20231130', 'etc_news_id': 15545}, {'content': '편집자주 이사회는 회사와 주주의 이익을 위해 최종적으로 의사결정을 내리는 조직이다 경영전략은 물론 재무 인사 등 회사의 미래를 결정지을 법한 의안들을 다룬다 각사의 이사회가 한 해 동안 다룬 주요 의안들을 보면 그 회사의 미래 지향점이 어디인지 또 당장 어디에 경영  ... (1998 characters truncated) ... 자를 늘려간다 지난달 재무위원회 주재로 열린 자리에서 CARBONCO 유상증자 참여 승인의 건이 가결된 게 DL이앤씨의 현 기조를 방증한다 출자 규모는 150억원으로 알려졌다 카본코의 성장 궤도에 따라 플랜트사업본부는 보다 다양한 포트폴리오를 확보할 수 있을 전망이다', 'etc_news_id': 15546}, {'content': '이 기사는 2024년 03월 19일 0733\\r\\nthebell 에 표출된 기사입니다 \\n전남지역 향토 건설사인 위본건설이 수원고등지구 내 준주거용지를 확보했다 한국토지주택공사LH가 지난해 11월 공고한 이래 4개월 가까이 주인을 차지 못했지만 최근 수의계약 형태로  ... (1158 characters truncated) ... 등동 일원 36만1976 부지를 재정비하는 게 골자다 인구밀도가 400인핵타르ha를 상회하는 데다 일부 신축된 건축물을 제외하고 대부분이 노후불량화되자 개발을 본격화했다 총 4871가구로 가구수를 재단장하는 게 목표다\\r\\n수원고등지구 사업 대상지 위치 사진LH 제공', 'etc_news_id': 15547}, {'content': '편집자주 부동산신탁사들 사이에서 신탁방식 정비사업 수주 열풍이 불고 있다 2016년 제도 도입 이후 열기가 가장 뜨겁다 건설부동산 경기 침체로 사업 포트폴리오를 다각화 할 필요성이 커진 것도 요인이다 업계 숙원이었던 표준계약서 도입이 이뤄지면서 사업 추진 동력도 생겼 ... (2636 characters truncated) ... 은 현장에만 수주 역량을 국한하지 않고 토지등소유자들의 주거환경 개선과 이익 실현에 기여할 수 있는 사업장을 발굴하고자 노력하고 있다고 말했다 이어 신규 수주를 신중하게 검토하고 있는 가운데 기존 프로젝트 사업성과 안정성을 높이는 노력도 함께 기울이고 있다고 덧붙였다', 'etc_news_id': 15548}, {'content': '이 기사는 2024년 03월 14일 1622 \\r\\nTHE CFO에 표출된 기사입니다 \\nCJ프레시웨이가 신임 최고재무책임자CFO에 곽경민 경영지원담당 경영리더를 선임했다 CJ지주 CJ온스타일 CJ올리브영 등 사업 전략을 담당해 온 전문가로 향후 CJ프레시웨이의 디지 ... (884 characters truncated) ... 자재 유통 시장 산업화 온라인 플랫폼 밀비즈니스 사업 확장 등 성장 모멘텀을 확보하는 데 집중할 예정이다\\nCJ프레시웨이 관계자는 곽 경영리더는 포트폴리오 전략 등 다양한 사업에서 활약한 사업관리 전문가라며 체계적인 사업관리로 퀀텀점프 기반을 마련할 것이라고 설명했다', 'etc_news_id': 15549}, {'content': '이 기사는 2024년 03월 14일 0931\\r\\nthebell 에 표출된 기사입니다 \\n아워홈 경영권을 둘러싼 남매 갈등이 지속되고 있는 가운데 구지은 아워홈 부회장이 이사회를 완전히 장악했다 한층 공고해진 지배력으로 안정적 경영 체제를 확립할 수 있는 기반을 마련 ... (1122 characters truncated) ... 회에 잔류했던 구재모 씨의 퇴임으로 구 전 부회장이 이사회에 우호 세력을 둘 수 없게 된 셈이다\\n아워홈 관계자는 구재모 씨는 2021년 상반기 이후 사내에서 근무한 이력이 없다며 사내이사로 재선임할 이유가 없어 임기만료에 따라 자연스럽게 퇴임하게 된 것이라고 말했다', 'etc_news_id': 15550}, {'content': '이 기사는 2024년 03월 18일 1027\\r\\nthebell 에 표출된 기사입니다 \\n롯데쇼핑이 보유한 하이마트의 영업권 무형가치가 6년 만에 손상 없이 보존된 것으로 나타났다 롯데쇼핑은 2018년부터 줄곧 하이마트 영업권에 대해 손상차손을 반영하며 순이익에 타격 ... (1129 characters truncated) ... 쇼핑 실적에도 긍정적인 효과로 이어졌다 2016년 이후 7년 만에 당기순이익이 흑자로 전환한 것이다 지난해 롯데쇼핑 매출액은 15조5559억원으로 전년대비 59 줄었고 영업이익은 316 증가한 5084억원을 기록했다 같은 기간 당기순이익은 1797억원으로 흑자전환했다', 'etc_news_id': 15551}, {'content': '이 기사는 2024년 03월 12일 1422\\r\\nthebell 에 표출된 기사입니다 \\n콜마비앤에이치가 해외사업에 박차를 가한다 CJ제일제당 출신 해외사업전문가를 영입해 영업마케팅총괄을 맡겼고 산하 부서로 해외사업본부를 신설했다 외형 성장이 둔화하고 수익성이 악화한 ... (1503 characters truncated) ...  등을 이해하고 있는 최 전무의 역할이 더욱 증대될 것으로 보인다\\n콜마비앤에이치 관계자는 내수시장이 과포화되며 시장 확대를 위해선 해외를 바라봐야 하는 상황이라며 최근 국제적으로 한국 건강기능식품 제품의 인지도도 좋아지고 있어 해외에 집중하기 좋은 시기다라고 말했다', 'etc_news_id': 15552}  ... displaying 10 of 252 total bound parameter sets ...  {'content': '한종희 삼성전자 대표이사 부회장이 MA인수합병의 많은 사항이 진척돼 있고 조만간 주주 여러분들께 말씀드릴 기회가 있을 것이라며 구체적으로 말씀드리지 못하는 점 죄송하다며 말을 아꼈다\\n한 부회장은 20일 수원 컨벤션센터에서 열린 제 55기 삼성전자 정기 주주총회에서  ... (766 characters truncated) ... 029년까지 두 번의 콜옵션을 행사해 지분율을 5994까지 확대할 계획이다\\n한편 이번 주주총회에서는 안건 표결 이후 한 부회장과 경계현 대표이사 사장이 DXDS부문의 경영현황 및 2024년 사업전략을 주주들에게 공유했고 처음으로 주주와의 대화 시간이 별도로 마련됐다', 'etc_news_id': 15795}, {'content': '성균관의대 교수들도 자발적 사직에 나설 것으로 보인다\\n성균관대학교 의과대학 교수 비상대책위원회위원장 최용수 삼성서울병원 흉부외과 이하 비대위는 지난 19일 오후 성균관의대 삼성서울병원 강북삼성병원 삼성창원병원 긴급 전체교수회의를 열고 성명서를 통해 의사들의 간절한  ... (1006 characters truncated) ... 사 결과를 바탕으로 비대위가 개별 교수들이 자율적으로 제출하는 사직서를 취합하기로 했다\\n이와 함께 교수 사직서는 전공의나 의대생의 피해가 현실화되는 시점이나 타 대학과의 공동 대응을 고려해 가장 적절한 시점에 교수들이 개별적으로 동시에 최종 제출하는 것으로 결정했다', 'etc_news_id': 15796}]\n"
     ]
    },
    {
     "name": "stderr",
     "output_type": "stream",
     "text": [
      "\n"
     ]
    },
    {
     "name": "stdout",
     "output_type": "stream",
     "text": [
      "2024-03-20 15:11:10,484 INFO sqlalchemy.engine.Engine COMMIT\n",
      "테이블 etc_news 업데이트 완료\n",
      "2024-03-20 15:11:10,496 INFO sqlalchemy.engine.Engine BEGIN (implicit)\n",
      "2024-03-20 15:11:10,497 INFO sqlalchemy.engine.Engine DESCRIBE `news_scraper`.`SELECT id, content FROM naver_news`\n",
      "2024-03-20 15:11:10,497 INFO sqlalchemy.engine.Engine [raw sql] {}\n",
      "2024-03-20 15:11:10,500 INFO sqlalchemy.engine.Engine SELECT id, content FROM naver_news\n",
      "2024-03-20 15:11:10,501 INFO sqlalchemy.engine.Engine [raw sql] {}\n",
      "2024-03-20 15:11:11,260 INFO sqlalchemy.engine.Engine ROLLBACK\n"
     ]
    },
    {
     "name": "stderr",
     "output_type": "stream",
     "text": [
      "Processing naver_news: 100%|██████████| 19369/19369 [00:00<00:00, 20357.95it/s]"
     ]
    },
    {
     "name": "stdout",
     "output_type": "stream",
     "text": [
      "2024-03-20 15:11:12,229 INFO sqlalchemy.engine.Engine BEGIN (implicit)\n"
     ]
    },
    {
     "name": "stderr",
     "output_type": "stream",
     "text": [
      "\n"
     ]
    },
    {
     "name": "stdout",
     "output_type": "stream",
     "text": [
      "2024-03-20 15:11:12,334 INFO sqlalchemy.engine.Engine UPDATE naver_news SET content=%(content)s WHERE naver_news.id = %(naver_news_id)s\n",
      "2024-03-20 15:11:12,334 INFO sqlalchemy.engine.Engine [generated in 0.05907s] [{'content': '선거대책위에서 직책맡으며 지지세 확장 도움\\n410 총선 공천 티켓을 놓고 경쟁을 벌였던 같은 당 예비후보들이 선당후사의 자세로 다시 힘을 모으고 있다\\n춘천지역을 중심으로 움직였던 국민의힘 예비후보들은 김혜란 춘천갑 예비후보를 지지하며 캠프에 합류했다 춘천갑에서 공 ... (498 characters truncated) ... 는 공천 과정에서 컷오프됐던 이종석 예비후보가 민주당을 탈당했으며 무소속 출마를 고민중인 것으로 알려졌다\\n공천에서 배제됐던 도내 한 국회의원 예비후보는 당의 승리를 위해 경쟁했던 후보의 당선에 보탬이 되어야 하는 것은 맞지만 아직 마음의 결정을 내리지 못했다고 했다', 'naver_news_id': 13728811}, {'content': '더불어민주당 전성 춘천철원화천양구을 국회의원 예비후보가 공보의 상급병원 차출로 지역의료 공백이 심각해지고 있다며 정부를 향해 비판의 목소리를 냈다\\n전 예비후보는 18일 자료를 내고 지난주 화천군에서만 공보의 3명을 파견했고 춘천 사북면보건지소는 진료 횟수를 주 3회 ... (232 characters truncated) ... 꼬집었다\\n그는 지역구 주민들의 심각한 의료위기를 외면하고 있는 한기호 국회의원의 책임도 묻지 않을 수 없다며 국회의원이 되면 응급의료기관 접근권을 강화하고 접경지역을 의료위기지역으로 지정해 방문진료 약배달 등 저위험 의사 업무를 허용하는 방안을 추진하겠다고 강조했다', 'naver_news_id': 13728812}, {'content': '당 지도부 후보 등록일까지 바로 잡아야\\n국민의힘 인재영입위원장이자 공천관리위원으로 활동했던 이철규동해태백삼척정선 국회의원이 비례대표 위성정당인 국민의미래 공천에 아쉬움을 드러냈다\\n이 의원은 18일 자신의 페이스북에 많은 아픔을 겪으며 지역구 공천을 마무리 했지만  ... (437 characters truncated) ... 안함을 전한다고 강조했다\\n앞선 지역구 공천에 대해서는 16년만에 전국 254개 선거구 전 지역에 후보를 공천해 집권당의 책무를 다할수 있게 됐다며 이번 지역구 공천에서는 대통령의 40년 지기 친구도 수십년을 함께했던 동료 검사도 공천과정에서 원천배제 됐다고 평가했다', 'naver_news_id': 13728813}, {'content': '410 총선이 20여일 앞으로 다가오면서 강원특별자치도 출신 및 연고 예비후보들의 당선 가능성에 관심이 모아지고 있다 도 출신 및 연고 예비후보들의 각종 여론조사 결과를 통해 선거구 표심 등을 살펴본다\\n1 경기 성남시분당구갑이광재평창민\\n경기 분당갑에서 국민의힘 대 ... (544 characters truncated) ... 입되면서 20대 21대 선거에서는 박빙의 승부가 펼쳐지며 여야 후보가 한차례씩 당선됐다 이처럼 여야간 팽팽한 표심속에 재건축 문제가 결국 표심을 가를 것이라는 분석도 나오고 있다\\n한편 여론조사와 관련한 자세한 사항은 중앙선거여론조사심의위원회 홈페이지를 참조하면 된다', 'naver_news_id': 13728814}, {'content': '국민의힘은 오늘 오전 국회 의원회관에서 선대위 출범식을 엽니다\\n한동훈 총괄선대위원장과 나경원안철수원희룡윤재옥 등 4명의 공동 선대위원장이 출범식에 참석합니다\\n선대위 출범식에서 유의동 선대위 부위원장은 국민택배를 테마로 당 공약개발본부가 발표했던 주요 총선 공약들을 ... (12 characters truncated) ... 선대위 실무를 담당하는 선대위 총괄본부장은 장동혁 사무총장이 종합상황실장은 이만희 의원이 맡기로 했습니다\\n제보하기\\n전화 027811234 4444\\n이메일 kbs1234kbscokr\\n카카오톡 KBS제보 검색 채널 추가\\n네이버 유튜브에서 KBS뉴스를 구독해주세요', 'naver_news_id': 13728815}, {'content': '민주당 중앙당 선거관리위원회는 오늘 저녁 6시 반쯤 현역 박용진 의원과 정치 신인 조수진 변호사가 맞붙은 서울 강북을 전략 경선 개표 결과를 공개합니다\\n앞서 박 의원은 현역 의원 하위 10 평가를 받고 득표율 30 감산 규정이 적용되면서 정 전 의원과의 경선에서 패 ... (91 characters truncated) ... 경선을 하게 됐습니다\\n경선은 전국 권리당원 70 강북을 권리당원 30 비율의 온라인 투표로 진행됐습니다\\n제보하기\\n전화 027811234 4444\\n이메일 kbs1234kbscokr\\n카카오톡 KBS제보 검색 채널 추가\\n네이버 유튜브에서 KBS뉴스를 구독해주세요', 'naver_news_id': 13728816}, {'content': '허영전성 합동 공약 기자회견\\n김혜란한기호 회동 필승 다짐\\n박정하김완섭 원창묵송기헌\\n원주서도 갑을 후보 원팀행보\\n이재명 19일 춘천원주 올해 첫 방문\\n원주 두 번 온 한동훈 추가 방문 검토\\n410총선이 22일 앞으로 다가온 가운데 춘천과 원주 등 강원 주요  ... (929 characters truncated) ... 원주 등의 추가 방문을 검토중이다\\n춘천과 원주 모두 강원지역의 승부처로 통하는 만큼 앞으로 거대 양당의 강원 표심 쟁탈전이 거세질 전망이다\\n강원 정치권 관계자는 여야 모두 춘천과 원주를 격전지로 분류하고 있는만큼 중앙당 차원의 지원이 이어질 수 있을 것이라고 했다', 'naver_news_id': 13728817}, {'content': '도심에서 편도 20분 이상 소요 시간 단축 유도\\n강촌역 도시계획도로 신설해 철도 접근성 확보\\n춘천 춘천시가 남산면 광판리에 조성하는 기업혁신파크와 도심을 연결하는 간선급행버스체계BRT 도입을 구상하고 있다\\n350개 이상의 기업 입주와 6000세대 주택 건설 글로 ... (613 characters truncated) ... 고려한 판단이다 또 정부 지원을 통해 서울춘천고속도로 남춘천IC와 기업혁신파크 사이 7가량의 군도 차로 확장 공사를 추진할 계획이다\\n육동한 시장은 기업혁신파크 개발 속도에 맞춰 정부와 지자체의 교통망 개선 사업을 추진해 교통 접근성 확보를 사전 대비하겠다고 강조했다', 'naver_news_id': 13728818}  ... displaying 10 of 19369 total bound parameter sets ...  {'content': '코웨이는 가정용품 박람회 IHS에 참가한다코웨이가 북미 공기청정기 시장 공략에 박차를 가한다코웨이는 미국 시카고 맥코믹 플레이스에서 열린 2024 시카고 가정용품 박람회에 참가 북미향 공기청정기 에어메가 라인업을 선보였다코웨이는 박람회에서 북미향 공기청정기 13종과  ... (231 characters truncated) ...  박람회를 통해 코웨이 에어메가 공기청정기가 북미 소비자와 매체 바이어로부터 좋은 평가를 받으며 공기청정기 시장 내 리더로서 입지를 공고히 하고 있다는 점을 다시금 확인했다며 앞으로도 혁신적인 제품과 서비스를 통해 글로벌 공기청정기 시장을 선도해 나갈 것이라고 말했다', 'naver_news_id': 13748178}, {'content': '독일 분데스리가 바이에른 뮌헨의 김민재가 18일한국시간 독일 뮌헨의 알리안츠 아레나에서 열린 슈투트가르트와의 202324 독일 분데스리가 15라운드에서 데뷔골을 넣은 뒤 동료들과 기뻐하고 있다 이날 뮌헨은 3대0으로 승리했다 20231218 AFP뉴스1 Copyrig ... (586 characters truncated) ... 다 한편 쿠팡플레이는 202425시즌부터 분데스리가의 전 경기를 포함해 분데스리가 2 독일 슈퍼컵과 승강 플레이오프 경기를 국내에 독점 중계한다 쿠팡플레이는 쿠팡 와우회원에게 제공되는 OTT온라인동영상서비스다 쿠팡플레이 시리즈의 티켓 구매와 시청도 와우회원만 가능하다', 'naver_news_id': 13748179}]\n",
      "2024-03-20 15:11:42,969 INFO sqlalchemy.engine.Engine COMMIT\n",
      "테이블 naver_news 업데이트 완료\n"
     ]
    }
   ],
   "source": [
    "from sqlalchemy.orm import sessionmaker\n",
    "import pandas as pd\n",
    "from tqdm.auto import tqdm \n",
    "tqdm.pandas()\n",
    "\n",
    "\n",
    "Session = sessionmaker(bind=engine)\n",
    "session = Session()\n",
    "\n",
    "for table_name in news_table_names:\n",
    "    # 데이터베이스에서 데이터를 가져옵니다.\n",
    "    df = pd.read_sql(f'SELECT id, content FROM {table_name}', con=engine)\n",
    "\n",
    "    # 'content' 컬럼을 process_content 함수로 처리합니다.\n",
    "    tqdm.pandas(desc=f\"Processing {table_name}\")\n",
    "    df['content'] = df['content'].progress_apply(process_content)\n",
    "\n",
    "    # bulk_update_mappings을 사용하여 업데이트합니다.\n",
    "    session.bulk_update_mappings(\n",
    "        model_map[table_name],\n",
    "        df.to_dict(orient='records')\n",
    "    )\n",
    "    session.commit()\n",
    "\n",
    "    print(f'테이블 {table_name} 업데이트 완료')\n",
    "\n",
    "session.close()\n"
   ]
  }
 ],
 "metadata": {
  "kernelspec": {
   "display_name": "test-1GvpDNxc-py3.10",
   "language": "python",
   "name": "python3"
  },
  "language_info": {
   "codemirror_mode": {
    "name": "ipython",
    "version": 3
   },
   "file_extension": ".py",
   "mimetype": "text/x-python",
   "name": "python",
   "nbconvert_exporter": "python",
   "pygments_lexer": "ipython3",
   "version": "3.10.12"
  }
 },
 "nbformat": 4,
 "nbformat_minor": 2
}
